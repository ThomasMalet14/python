{
 "cells": [
  {
   "cell_type": "markdown",
   "metadata": {},
   "source": [
    "## 表达式和推导式"
   ]
  },
  {
   "cell_type": "code",
   "execution_count": 7,
   "metadata": {},
   "outputs": [
    {
     "name": "stdout",
     "output_type": "stream",
     "text": [
      "2.1972245773362196\n",
      "2.1972245773362196\n"
     ]
    }
   ],
   "source": [
    "# 条件表达式\n",
    "# 一行代码, 如果x为正数则取log, 为负数则范围nan\n",
    "# 参考旧写法\n",
    "\n",
    "import math\n",
    "\n",
    "def get_log(x):\n",
    "    # 普通写法\n",
    "    if x > 0:\n",
    "        y = math.log(x)\n",
    "    else:\n",
    "        y = float('nan')\n",
    "    return y\n",
    "\n",
    "print(get_log(9))\n",
    "\n",
    "\n",
    "\n",
    "x = 9\n",
    "y = math.log(x) if x > 0 else float('nan')\n",
    "print(y)"
   ]
  },
  {
   "cell_type": "code",
   "execution_count": 12,
   "metadata": {},
   "outputs": [
    {
     "name": "stdout",
     "output_type": "stream",
     "text": [
      "找出100内的偶数(for循环)：\n",
      "[0, 2, 4, 6, 8, 10, 12, 14, 16, 18, 20, 22, 24, 26, 28, 30, 32, 34, 36, 38, 40, 42, 44, 46, 48, 50, 52, 54, 56, 58, 60, 62, 64, 66, 68, 70, 72, 74, 76, 78, 80, 82, 84, 86, 88, 90, 92, 94, 96, 98]\n",
      "[0, 2, 4, 6, 8, 10, 12, 14, 16, 18, 20, 22, 24, 26, 28, 30, 32, 34, 36, 38, 40, 42, 44, 46, 48, 50, 52, 54, 56, 58, 60, 62, 64, 66, 68, 70, 72, 74, 76, 78, 80, 82, 84, 86, 88, 90, 92, 94, 96, 98]\n"
     ]
    }
   ],
   "source": [
    "# 列表式推导式\n",
    "# 一行代码, 取出100内的所有偶数\n",
    "# 参考旧写法\n",
    "print('找出100内的偶数(for循环)：')\n",
    "l1 = []\n",
    "for i in range(100):\n",
    "    if i % 2 == 0:\n",
    "        l1.append(i)\n",
    "print(l1)\n",
    "\n",
    "l2 = [i for i in range(100) if i % 2 == 0]\n",
    "print(l2)"
   ]
  },
  {
   "cell_type": "markdown",
   "metadata": {},
   "source": [
    "## Python的集合类"
   ]
  },
  {
   "cell_type": "code",
   "execution_count": 1,
   "metadata": {},
   "outputs": [
    {
     "name": "stdout",
     "output_type": "stream",
     "text": [
      "<class 'list'>\n",
      "list indexing exercise\n",
      "1\n",
      "[1, 2, 'a', 'b']\n",
      "[1, 2]\n",
      "['a', 'b']\n",
      "After changing first elemetn to 3, l1 is: [3, 2, 'a', 'b']\n",
      "After adding one element to the end, l1 is: [3, 2, 'a', 'b', 'c']\n",
      "遍历list(for循环)：\n",
      "3\n",
      "2\n",
      "a\n",
      "b\n",
      "c\n",
      "遍历list(while循环)：\n",
      "3\n",
      "2\n",
      "a\n",
      "b\n",
      "c\n",
      "Merge list by operator + ：\n",
      "[3, 2, 'a', 'b', 'c', 3, 4, 'x', 'y', 'z']\n",
      "Merge list by extend method：- take care of difference\n",
      "[3, 4, 'x', 'y', 'z', 3, 2, 'a', 'b', 'c']\n",
      "Duplicate list by operator *: \n",
      "[3, 2, 'a', 'b', 'c', 3, 2, 'a', 'b', 'c', 3, 2, 'a', 'b', 'c', 3, 2, 'a', 'b', 'c', 3, 2, 'a', 'b', 'c']\n",
      "if 5 is in the list 1 : False\n",
      "if 2 is in the list 1 : True\n",
      "<class 'map'>\n",
      "[0, 1, 4, 9, 16, 25, 36, 49, 64, 81]\n",
      "[0, 1, 4, 9, 16, 25, 36, 49, 64, 81]\n",
      "[0, 4, 16, 36, 64]\n"
     ]
    }
   ],
   "source": [
    "# list\n",
    "\n",
    "# 1 创建list\n",
    "l1 = [1, 2, 'a', 'b']\n",
    "print(type(l1))\n",
    "# 2 取得list的元素, 修改list的元素\n",
    "print('list indexing exercise')\n",
    "print(l1[0])\n",
    "print(l1[:])\n",
    "print(l1[0:2])\n",
    "print(l1[2:4])\n",
    "l1[0] = 3\n",
    "print('After changing first elemetn to 3, l1 is: {}'.format(l1))\n",
    "\n",
    "# 3 列尾添加element\n",
    "l1.append('c')\n",
    "print('After adding one element to the end, l1 is: {}'.format(l1))\n",
    "\n",
    "# 4 遍历list\n",
    "print('遍历list(for循环)：')\n",
    "for item in l1:\n",
    "    print(item)\n",
    "\n",
    "# 5 通过索引遍历list\n",
    "print('遍历list(while循环)：')\n",
    "i = 0\n",
    "while (i < len(l1)):\n",
    "    print(l1[i])\n",
    "    i += 1\n",
    "\n",
    "# 6 列表合并\n",
    "l2 = [3, 4, 'x', 'y', 'z']\n",
    "print('Merge list by operator + ：')\n",
    "print(l1 + l2)\n",
    "\n",
    "print('Merge list by extend method：- take care of difference')\n",
    "l2.extend(l1)\n",
    "print(l2)\n",
    "\n",
    "# 7 列表重复\n",
    "print('Duplicate list by operator *: ')\n",
    "print(l1 * 5)\n",
    "\n",
    "# 8 判断element是否在列表中\n",
    "print('if 5 is in the list 1 : {}'.format(5 in l1))\n",
    "print('if 2 is in the list 1 : {}'.format(2 in l1))\n",
    "\n",
    "# 9 List Comprehensions\n",
    "squares = [x**2 for x in range(10)]\n",
    "formular = map(lambda x: x**2, range(10))\n",
    "print(type(formular))\n",
    "squares_other = list(formular)\n",
    "squares_double = [x**2 for x in range(10) if x % 2 == 0]\n",
    "print(squares)\n",
    "print(squares_other)\n",
    "print(squares_double)"
   ]
  },
  {
   "cell_type": "code",
   "execution_count": 9,
   "metadata": {},
   "outputs": [
    {
     "name": "stdout",
     "output_type": "stream",
     "text": [
      "<class 'tuple'>\n",
      "2\n",
      "(1, 2, 3, 'a')\n",
      "(1, 2, 3)\n",
      "('a',)\n",
      "1\n",
      "2\n",
      "3\n",
      "a\n"
     ]
    }
   ],
   "source": [
    "# Tuple\n",
    "\n",
    "# 1 Create a Tuple\n",
    "t1 = (1, 2, 3, 'a')\n",
    "print(type(t1))\n",
    "\n",
    "# 2 Index\n",
    "print(t1[1])\n",
    "print(t1[:])\n",
    "print(t1[:3])\n",
    "print(t1[3:4])\n",
    "\n",
    "# 3 Immutable\n",
    "#t1[3] = 'b'\n",
    "\n",
    "# 4 Iterator\n",
    "for i in t1:\n",
    "    print(i)\n"
   ]
  }
 ],
 "metadata": {
  "kernelspec": {
   "display_name": "Python [conda env:py3]",
   "language": "python",
   "name": "conda-env-py3-py"
  },
  "language_info": {
   "codemirror_mode": {
    "name": "ipython",
    "version": 3
   },
   "file_extension": ".py",
   "mimetype": "text/x-python",
   "name": "python",
   "nbconvert_exporter": "python",
   "pygments_lexer": "ipython3",
   "version": "3.6.6"
  }
 },
 "nbformat": 4,
 "nbformat_minor": 2
}
