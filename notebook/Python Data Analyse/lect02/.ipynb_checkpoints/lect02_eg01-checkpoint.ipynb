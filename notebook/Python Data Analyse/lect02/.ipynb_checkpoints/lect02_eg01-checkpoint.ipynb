{
 "cells": [
  {
   "cell_type": "markdown",
   "metadata": {},
   "source": [
    "# 基本数据对象及操作"
   ]
  },
  {
   "cell_type": "markdown",
   "metadata": {},
   "source": [
    "## 1. Series"
   ]
  },
  {
   "cell_type": "markdown",
   "metadata": {},
   "source": [
    "* 创建Series"
   ]
  },
  {
   "cell_type": "code",
   "execution_count": 1,
   "metadata": {},
   "outputs": [],
   "source": [
    "import pandas as pd\n",
    "\n",
    "countries = ['中国', '美国', '澳大利亚']\n",
    "countries_s = pd.Series(countries)\n",
    "print(type(countries_s))\n",
    "print(countries_s)\n",
    "print(countries_s.index)\n",
    "print(countries_s.values)"
   ]
  },
  {
   "cell_type": "code",
   "execution_count": 2,
   "metadata": {},
   "outputs": [],
   "source": [
    "numbers = [4, 5, 6]\n",
    "numbers_s = pd.Series(numbers)\n",
    "print(numbers_s)\n",
    "print(numbers_s.index)\n",
    "print(numbers_s.values)"
   ]
  },
  {
   "cell_type": "code",
   "execution_count": 3,
   "metadata": {},
   "outputs": [],
   "source": [
    "country_dicts = {'CH': '中国',\n",
    "                'US': '美国',\n",
    "                'AU': '澳大利亚'}\n",
    "\n",
    "country_dict_s = pd.Series(country_dicts)\n",
    "# 给索引命名\n",
    "country_dict_s.index.name = 'Code'\n",
    "# 给数据命名\n",
    "country_dict_s.name = 'Country'\n",
    "\n",
    "print(country_dict_s)\n",
    "print(country_dict_s.values)\n",
    "print(country_dict_s.index)"
   ]
  },
  {
   "cell_type": "markdown",
   "metadata": {},
   "source": [
    "* 处理缺失数据"
   ]
  },
  {
   "cell_type": "code",
   "execution_count": 4,
   "metadata": {},
   "outputs": [],
   "source": [
    "countries = ['中国', '美国', '澳大利亚', None]\n",
    "print(pd.Series(countries))"
   ]
  },
  {
   "cell_type": "code",
   "execution_count": 5,
   "metadata": {},
   "outputs": [],
   "source": [
    "numbers = [4, 5, 6, None]\n",
    "print(pd.Series(numbers))"
   ]
  },
  {
   "cell_type": "markdown",
   "metadata": {},
   "source": [
    "* Series 索引"
   ]
  },
  {
   "cell_type": "code",
   "execution_count": 6,
   "metadata": {},
   "outputs": [
    {
     "name": "stdout",
     "output_type": "stream",
     "text": [
      "CH      中国\n",
      "US      美国\n",
      "AU    澳大利亚\n",
      "dtype: object\n"
     ]
    }
   ],
   "source": [
    "country_dicts = {'CH': '中国',\n",
    "                'US': '美国',\n",
    "                'AU': '澳大利亚'}\n",
    "\n",
    "country_dict_s = pd.Series(country_dicts)\n",
    "print(country_dict_s)"
   ]
  },
  {
   "cell_type": "code",
   "execution_count": 7,
   "metadata": {},
   "outputs": [
    {
     "name": "stdout",
     "output_type": "stream",
     "text": [
      "True\n",
      "False\n"
     ]
    }
   ],
   "source": [
    "# 通过索引判断数据是存在\n",
    "# Series也可看作定长、有序的字典\n",
    "print('CH' in country_dict_s)\n",
    "print('NZ' in country_dict_s)"
   ]
  },
  {
   "cell_type": "code",
   "execution_count": 8,
   "metadata": {},
   "outputs": [
    {
     "name": "stdout",
     "output_type": "stream",
     "text": [
      "iloc: 美国\n",
      "loc: 美国\n",
      "[]: 美国\n"
     ]
    }
   ],
   "source": [
    "print('iloc:', country_dict_s.iloc[1])\n",
    "print('loc:', country_dict_s.loc['US'])\n",
    "print('[]:', country_dict_s['US'])"
   ]
  },
  {
   "cell_type": "code",
   "execution_count": 9,
   "metadata": {},
   "outputs": [
    {
     "name": "stdout",
     "output_type": "stream",
     "text": [
      "iloc:\n",
      " CH      中国\n",
      "AU    澳大利亚\n",
      "dtype: object\n",
      "\n",
      "loc:\n",
      " US      美国\n",
      "AU    澳大利亚\n",
      "dtype: object\n"
     ]
    }
   ],
   "source": [
    "print('iloc:\\n', country_dict_s.iloc[ [0, 2] ])\n",
    "print()\n",
    "print('loc:\\n', country_dict_s.loc[['US', 'AU']])"
   ]
  },
  {
   "cell_type": "markdown",
   "metadata": {},
   "source": [
    "*  向量化操作"
   ]
  },
  {
   "cell_type": "code",
   "execution_count": 10,
   "metadata": {},
   "outputs": [
    {
     "name": "stdout",
     "output_type": "stream",
     "text": [
      "0    762\n",
      "1    725\n",
      "2    979\n",
      "3    424\n",
      "4    796\n",
      "dtype: int32\n",
      "10000\n"
     ]
    }
   ],
   "source": [
    "import numpy as np\n",
    "\n",
    "s = pd.Series(np.random.randint(0, 1000, 10000))\n",
    "print(s.head())\n",
    "print(len(s))"
   ]
  },
  {
   "cell_type": "code",
   "execution_count": 11,
   "metadata": {},
   "outputs": [
    {
     "name": "stdout",
     "output_type": "stream",
     "text": [
      "488 µs ± 19.1 µs per loop (mean ± std. dev. of 7 runs, 100 loops each)\n"
     ]
    }
   ],
   "source": [
    "%%timeit -n 100\n",
    "total = 0\n",
    "for item in s:\n",
    "    total += item"
   ]
  },
  {
   "cell_type": "code",
   "execution_count": 12,
   "metadata": {},
   "outputs": [
    {
     "name": "stdout",
     "output_type": "stream",
     "text": [
      "86.1 µs ± 4.93 µs per loop (mean ± std. dev. of 7 runs, 100 loops each)\n"
     ]
    }
   ],
   "source": [
    "%%timeit -n 100\n",
    "total = np.sum(s)"
   ]
  },
  {
   "cell_type": "code",
   "execution_count": 13,
   "metadata": {},
   "outputs": [
    {
     "name": "stdout",
     "output_type": "stream",
     "text": [
      "4.81 s ± 1.18 s per loop (mean ± std. dev. of 7 runs, 10 loops each)\n"
     ]
    }
   ],
   "source": [
    "%%timeit -n 10\n",
    "s = pd.Series(np.random.randint(0, 1000, 10000))\n",
    "for label, value in s.iteritems():\n",
    "    s.loc[label] = value + 2"
   ]
  },
  {
   "cell_type": "code",
   "execution_count": 14,
   "metadata": {},
   "outputs": [
    {
     "name": "stdout",
     "output_type": "stream",
     "text": [
      "The slowest run took 6.74 times longer than the fastest. This could mean that an intermediate result is being cached.\n",
      "353 µs ± 373 µs per loop (mean ± std. dev. of 7 runs, 10 loops each)\n"
     ]
    }
   ],
   "source": [
    "%%timeit -n 10\n",
    "s = pd.Series(np.random.randint(0, 1000, 10000))\n",
    "s += 2"
   ]
  },
  {
   "cell_type": "markdown",
   "metadata": {},
   "source": [
    "## 2. DataFrame"
   ]
  },
  {
   "cell_type": "markdown",
   "metadata": {},
   "source": [
    "* 创建Dataframe"
   ]
  },
  {
   "cell_type": "code",
   "execution_count": 38,
   "metadata": {},
   "outputs": [],
   "source": [
    "import pandas as pd\n",
    "\n",
    "country1 = pd.Series({'Name': '中国',\n",
    "                    'Language': 'Chinese',\n",
    "                    'Area': '9.597M km2',\n",
    "                     'Happiness Rank': 79})\n",
    "\n",
    "country2 = pd.Series({'Name': '美国',\n",
    "                    'Language': 'English (US)',\n",
    "                    'Area': '9.834M km2',\n",
    "                     'Happiness Rank': 14})\n",
    "\n",
    "country3 = pd.Series({'Name': '澳大利亚',\n",
    "                    'Language': 'English (AU)',\n",
    "                    'Area': '7.692M km2',\n",
    "                     'Happiness Rank': 9})\n",
    "\n",
    "df = pd.DataFrame([country1, country2, country3], index=['CH', 'US', 'AU'])"
   ]
  },
  {
   "cell_type": "code",
   "execution_count": 39,
   "metadata": {},
   "outputs": [
    {
     "name": "stdout",
     "output_type": "stream",
     "text": [
      "    Name      Language        Area  Happiness Rank\n",
      "CH    中国       Chinese  9.597M km2              79\n",
      "US    美国  English (US)  9.834M km2              14\n",
      "AU  澳大利亚  English (AU)  7.692M km2               9\n"
     ]
    },
    {
     "data": {
      "text/html": [
       "<div>\n",
       "<style scoped>\n",
       "    .dataframe tbody tr th:only-of-type {\n",
       "        vertical-align: middle;\n",
       "    }\n",
       "\n",
       "    .dataframe tbody tr th {\n",
       "        vertical-align: top;\n",
       "    }\n",
       "\n",
       "    .dataframe thead th {\n",
       "        text-align: right;\n",
       "    }\n",
       "</style>\n",
       "<table border=\"1\" class=\"dataframe\">\n",
       "  <thead>\n",
       "    <tr style=\"text-align: right;\">\n",
       "      <th></th>\n",
       "      <th>Name</th>\n",
       "      <th>Language</th>\n",
       "      <th>Area</th>\n",
       "      <th>Happiness Rank</th>\n",
       "    </tr>\n",
       "  </thead>\n",
       "  <tbody>\n",
       "    <tr>\n",
       "      <th>CH</th>\n",
       "      <td>中国</td>\n",
       "      <td>Chinese</td>\n",
       "      <td>9.597M km2</td>\n",
       "      <td>79</td>\n",
       "    </tr>\n",
       "    <tr>\n",
       "      <th>US</th>\n",
       "      <td>美国</td>\n",
       "      <td>English (US)</td>\n",
       "      <td>9.834M km2</td>\n",
       "      <td>14</td>\n",
       "    </tr>\n",
       "    <tr>\n",
       "      <th>AU</th>\n",
       "      <td>澳大利亚</td>\n",
       "      <td>English (AU)</td>\n",
       "      <td>7.692M km2</td>\n",
       "      <td>9</td>\n",
       "    </tr>\n",
       "  </tbody>\n",
       "</table>\n",
       "</div>"
      ],
      "text/plain": [
       "    Name      Language        Area  Happiness Rank\n",
       "CH    中国       Chinese  9.597M km2              79\n",
       "US    美国  English (US)  9.834M km2              14\n",
       "AU  澳大利亚  English (AU)  7.692M km2               9"
      ]
     },
     "execution_count": 39,
     "metadata": {},
     "output_type": "execute_result"
    }
   ],
   "source": [
    "# 注意在jupyter中使用print和不使用print的区别\n",
    "print(df)\n",
    "df"
   ]
  },
  {
   "cell_type": "code",
   "execution_count": 40,
   "metadata": {},
   "outputs": [
    {
     "name": "stdout",
     "output_type": "stream",
     "text": [
      "    Name      Language        Area  Happiness Rank Location\n",
      "CH    中国       Chinese  9.597M km2              79       地球\n",
      "US    美国  English (US)  9.834M km2              14       地球\n",
      "AU  澳大利亚  English (AU)  7.692M km2               9       地球\n"
     ]
    },
    {
     "data": {
      "text/html": [
       "<div>\n",
       "<style scoped>\n",
       "    .dataframe tbody tr th:only-of-type {\n",
       "        vertical-align: middle;\n",
       "    }\n",
       "\n",
       "    .dataframe tbody tr th {\n",
       "        vertical-align: top;\n",
       "    }\n",
       "\n",
       "    .dataframe thead th {\n",
       "        text-align: right;\n",
       "    }\n",
       "</style>\n",
       "<table border=\"1\" class=\"dataframe\">\n",
       "  <thead>\n",
       "    <tr style=\"text-align: right;\">\n",
       "      <th></th>\n",
       "      <th>Name</th>\n",
       "      <th>Language</th>\n",
       "      <th>Area</th>\n",
       "      <th>Happiness Rank</th>\n",
       "      <th>Location</th>\n",
       "      <th>Region</th>\n",
       "    </tr>\n",
       "  </thead>\n",
       "  <tbody>\n",
       "    <tr>\n",
       "      <th>CH</th>\n",
       "      <td>中国</td>\n",
       "      <td>Chinese</td>\n",
       "      <td>9.597M km2</td>\n",
       "      <td>79</td>\n",
       "      <td>地球</td>\n",
       "      <td>亚洲</td>\n",
       "    </tr>\n",
       "    <tr>\n",
       "      <th>US</th>\n",
       "      <td>美国</td>\n",
       "      <td>English (US)</td>\n",
       "      <td>9.834M km2</td>\n",
       "      <td>14</td>\n",
       "      <td>地球</td>\n",
       "      <td>北美洲</td>\n",
       "    </tr>\n",
       "    <tr>\n",
       "      <th>AU</th>\n",
       "      <td>澳大利亚</td>\n",
       "      <td>English (AU)</td>\n",
       "      <td>7.692M km2</td>\n",
       "      <td>9</td>\n",
       "      <td>地球</td>\n",
       "      <td>大洋洲</td>\n",
       "    </tr>\n",
       "  </tbody>\n",
       "</table>\n",
       "</div>"
      ],
      "text/plain": [
       "    Name      Language        Area  Happiness Rank Location Region\n",
       "CH    中国       Chinese  9.597M km2              79       地球     亚洲\n",
       "US    美国  English (US)  9.834M km2              14       地球    北美洲\n",
       "AU  澳大利亚  English (AU)  7.692M km2               9       地球    大洋洲"
      ]
     },
     "execution_count": 40,
     "metadata": {},
     "output_type": "execute_result"
    }
   ],
   "source": [
    "# 添加数据\n",
    "# 如果个数小于要求的个数，会自动进行“广播”操作\n",
    "# 如果大于要求的个数，会报错\n",
    "df['Location'] = '地球'\n",
    "print(df)\n",
    "\n",
    "df['Region'] = ['亚洲', '北美洲', '大洋洲']\n",
    "# print(df)\n",
    "df"
   ]
  },
  {
   "cell_type": "markdown",
   "metadata": {},
   "source": [
    "* Dataframe索引"
   ]
  },
  {
   "cell_type": "code",
   "execution_count": 41,
   "metadata": {},
   "outputs": [
    {
     "name": "stdout",
     "output_type": "stream",
     "text": [
      "loc:\n",
      "Name                      中国\n",
      "Language             Chinese\n",
      "Area              9.597M km2\n",
      "Happiness Rank            79\n",
      "Location                  地球\n",
      "Region                    亚洲\n",
      "Name: CH, dtype: object\n",
      "<class 'pandas.core.series.Series'>\n",
      "iloc:\n",
      "Name                        美国\n",
      "Language          English (US)\n",
      "Area                9.834M km2\n",
      "Happiness Rank              14\n",
      "Location                    地球\n",
      "Region                     北美洲\n",
      "Name: US, dtype: object\n",
      "CH    9.597M km2\n",
      "US    9.834M km2\n",
      "AU    7.692M km2\n",
      "Name: Area, dtype: object\n",
      "<class 'pandas.core.series.Series'>\n"
     ]
    }
   ],
   "source": [
    "# 行索引\n",
    "print('loc:')\n",
    "print(df.loc['CH'])\n",
    "print(type(df.loc['CH']))\n",
    "\n",
    "print('iloc:')\n",
    "print(df.iloc[1])"
   ]
  },
  {
   "cell_type": "code",
   "execution_count": 42,
   "metadata": {},
   "outputs": [
    {
     "name": "stdout",
     "output_type": "stream",
     "text": [
      "CH    9.597M km2\n",
      "US    9.834M km2\n",
      "AU    7.692M km2\n",
      "Name: Area, dtype: object\n",
      "<class 'pandas.core.series.Series'>\n"
     ]
    }
   ],
   "source": [
    "# 列索引\n",
    "print(df['Area'])\n",
    "print(type(df['Area']))"
   ]
  },
  {
   "cell_type": "code",
   "execution_count": 20,
   "metadata": {},
   "outputs": [
    {
     "name": "stdout",
     "output_type": "stream",
     "text": [
      "    Name        Area\n",
      "CH    中国  9.597M km2\n",
      "US    美国  9.834M km2\n",
      "AU  澳大利亚  7.692M km2\n"
     ]
    }
   ],
   "source": [
    "# 获取不连续的列数据\n",
    "print(df[['Name', 'Area']])"
   ]
  },
  {
   "cell_type": "code",
   "execution_count": 21,
   "metadata": {},
   "outputs": [
    {
     "name": "stdout",
     "output_type": "stream",
     "text": [
      "先取出列，再取行：\n",
      "9.597M km2\n",
      "9.597M km2\n",
      "9.597M km2\n",
      "先取出行，再取列：\n",
      "9.597M km2\n",
      "9.597M km2\n"
     ]
    }
   ],
   "source": [
    "# 混合索引\n",
    "# 注意写法上的区别\n",
    "print('先取出列，再取行：')\n",
    "print(df['Area']['CH'])\n",
    "print(df['Area'].loc['CH'])\n",
    "print(df['Area'].iloc[0])\n",
    "\n",
    "print('先取出行，再取列：')\n",
    "print(df.loc['CH']['Area'])\n",
    "print(df.iloc[0]['Area'])"
   ]
  },
  {
   "cell_type": "code",
   "execution_count": 22,
   "metadata": {
    "scrolled": true
   },
   "outputs": [
    {
     "name": "stdout",
     "output_type": "stream",
     "text": [
      "                        CH            US            AU\n",
      "Name                    中国            美国          澳大利亚\n",
      "Language           Chinese  English (US)  English (AU)\n",
      "Area            9.597M km2    9.834M km2    7.692M km2\n",
      "Happiness Rank          79            14             9\n",
      "Location                地球            地球            地球\n",
      "Region                  亚洲           北美洲           大洋洲\n"
     ]
    }
   ],
   "source": [
    "# 转换行和列\n",
    "print(df.T)"
   ]
  },
  {
   "cell_type": "markdown",
   "metadata": {},
   "source": [
    "* 删除数据"
   ]
  },
  {
   "cell_type": "code",
   "execution_count": 23,
   "metadata": {},
   "outputs": [
    {
     "name": "stdout",
     "output_type": "stream",
     "text": [
      "    Name      Language        Area  Happiness Rank Location Region\n",
      "US    美国  English (US)  9.834M km2              14       地球    北美洲\n",
      "AU  澳大利亚  English (AU)  7.692M km2               9       地球    大洋洲\n",
      "    Name      Language        Area  Happiness Rank Location Region\n",
      "CH    中国       Chinese  9.597M km2              79       地球     亚洲\n",
      "US    美国  English (US)  9.834M km2              14       地球    北美洲\n",
      "AU  澳大利亚  English (AU)  7.692M km2               9       地球    大洋洲\n"
     ]
    }
   ],
   "source": [
    "print(df.drop(['CH']))\n",
    "# 注意drop操作只是将修改后的数据copy一份，而不会对原始数据进行修改\n",
    "print(df)"
   ]
  },
  {
   "cell_type": "code",
   "execution_count": 24,
   "metadata": {},
   "outputs": [
    {
     "name": "stdout",
     "output_type": "stream",
     "text": [
      "None\n",
      "    Name      Language        Area  Happiness Rank Location Region\n",
      "US    美国  English (US)  9.834M km2              14       地球    北美洲\n",
      "AU  澳大利亚  English (AU)  7.692M km2               9       地球    大洋洲\n"
     ]
    }
   ],
   "source": [
    "print(df.drop(['CH'], inplace=True))\n",
    "# 如果使用了inplace=True，会在原始数据上进行修改，同时不会返回一个copy\n",
    "print(df)"
   ]
  },
  {
   "cell_type": "code",
   "execution_count": 25,
   "metadata": {},
   "outputs": [
    {
     "name": "stdout",
     "output_type": "stream",
     "text": [
      "    Name      Language  Happiness Rank Location Region\n",
      "US    美国  English (US)              14       地球    北美洲\n",
      "AU  澳大利亚  English (AU)               9       地球    大洋洲\n",
      "    Name      Language        Area  Happiness Rank Location Region\n",
      "US    美国  English (US)  9.834M km2              14       地球    北美洲\n",
      "AU  澳大利亚  English (AU)  7.692M km2               9       地球    大洋洲\n"
     ]
    }
   ],
   "source": [
    "#  如果需要删除列，需要指定axis=1\n",
    "print(df.drop(['Area'], axis=1))\n",
    "print(df)"
   ]
  },
  {
   "cell_type": "code",
   "execution_count": 26,
   "metadata": {},
   "outputs": [
    {
     "name": "stdout",
     "output_type": "stream",
     "text": [
      "        Language        Area  Happiness Rank Location Region\n",
      "US  English (US)  9.834M km2              14       地球    北美洲\n",
      "AU  English (AU)  7.692M km2               9       地球    大洋洲\n"
     ]
    }
   ],
   "source": [
    "# 也可直接使用del关键字\n",
    "del df['Name']\n",
    "print(df)"
   ]
  },
  {
   "cell_type": "markdown",
   "metadata": {},
   "source": [
    "* DataFrame的操作与加载"
   ]
  },
  {
   "cell_type": "code",
   "execution_count": 27,
   "metadata": {},
   "outputs": [
    {
     "data": {
      "text/plain": [
       "US    14\n",
       "AU     9\n",
       "Name: Happiness Rank, dtype: int64"
      ]
     },
     "execution_count": 27,
     "metadata": {},
     "output_type": "execute_result"
    }
   ],
   "source": [
    "df['Happiness Rank']"
   ]
  },
  {
   "cell_type": "code",
   "execution_count": 28,
   "metadata": {},
   "outputs": [
    {
     "name": "stdout",
     "output_type": "stream",
     "text": [
      "US    16\n",
      "AU    11\n",
      "Name: Happiness Rank, dtype: int64\n",
      "        Language        Area  Happiness Rank Location Region\n",
      "US  English (US)  9.834M km2              16       地球    北美洲\n",
      "AU  English (AU)  7.692M km2              11       地球    大洋洲\n"
     ]
    }
   ],
   "source": [
    "# 注意从DataFrame中取出的数据进行操作后，会对原始数据产生影响\n",
    "ranks = df['Happiness Rank']\n",
    "ranks += 2\n",
    "print(ranks)\n",
    "print(df)"
   ]
  },
  {
   "cell_type": "code",
   "execution_count": 29,
   "metadata": {},
   "outputs": [
    {
     "name": "stdout",
     "output_type": "stream",
     "text": [
      "US    18\n",
      "AU    13\n",
      "Name: Happiness Rank, dtype: int64\n",
      "        Language        Area  Happiness Rank Location Region\n",
      "US  English (US)  9.834M km2              16       地球    北美洲\n",
      "AU  English (AU)  7.692M km2              11       地球    大洋洲\n"
     ]
    }
   ],
   "source": [
    "# 注意从DataFrame中取出的数据进行操作后，会对原始数据产生影响\n",
    "# 安全的操作是使用copy()\n",
    "ranks = df['Happiness Rank'].copy()\n",
    "ranks += 2\n",
    "print(ranks)\n",
    "print(df)"
   ]
  },
  {
   "cell_type": "code",
   "execution_count": 30,
   "metadata": {},
   "outputs": [
    {
     "name": "stdout",
     "output_type": "stream",
     "text": [
      "2015年数据预览：\n"
     ]
    },
    {
     "data": {
      "text/html": [
       "<div>\n",
       "<style scoped>\n",
       "    .dataframe tbody tr th:only-of-type {\n",
       "        vertical-align: middle;\n",
       "    }\n",
       "\n",
       "    .dataframe tbody tr th {\n",
       "        vertical-align: top;\n",
       "    }\n",
       "\n",
       "    .dataframe thead th {\n",
       "        text-align: right;\n",
       "    }\n",
       "</style>\n",
       "<table border=\"1\" class=\"dataframe\">\n",
       "  <thead>\n",
       "    <tr style=\"text-align: right;\">\n",
       "      <th></th>\n",
       "      <th>Country</th>\n",
       "      <th>Region</th>\n",
       "      <th>Happiness Rank</th>\n",
       "      <th>Happiness Score</th>\n",
       "      <th>Standard Error</th>\n",
       "      <th>Economy (GDP per Capita)</th>\n",
       "      <th>Family</th>\n",
       "      <th>Health (Life Expectancy)</th>\n",
       "      <th>Freedom</th>\n",
       "      <th>Trust (Government Corruption)</th>\n",
       "      <th>Generosity</th>\n",
       "      <th>Dystopia Residual</th>\n",
       "    </tr>\n",
       "  </thead>\n",
       "  <tbody>\n",
       "    <tr>\n",
       "      <th>0</th>\n",
       "      <td>Switzerland</td>\n",
       "      <td>Western Europe</td>\n",
       "      <td>1</td>\n",
       "      <td>7.587</td>\n",
       "      <td>0.03411</td>\n",
       "      <td>1.39651</td>\n",
       "      <td>1.34951</td>\n",
       "      <td>0.94143</td>\n",
       "      <td>0.66557</td>\n",
       "      <td>0.41978</td>\n",
       "      <td>0.29678</td>\n",
       "      <td>2.51738</td>\n",
       "    </tr>\n",
       "    <tr>\n",
       "      <th>1</th>\n",
       "      <td>Iceland</td>\n",
       "      <td>Western Europe</td>\n",
       "      <td>2</td>\n",
       "      <td>7.561</td>\n",
       "      <td>0.04884</td>\n",
       "      <td>1.30232</td>\n",
       "      <td>1.40223</td>\n",
       "      <td>0.94784</td>\n",
       "      <td>0.62877</td>\n",
       "      <td>0.14145</td>\n",
       "      <td>0.43630</td>\n",
       "      <td>2.70201</td>\n",
       "    </tr>\n",
       "    <tr>\n",
       "      <th>2</th>\n",
       "      <td>Denmark</td>\n",
       "      <td>Western Europe</td>\n",
       "      <td>3</td>\n",
       "      <td>7.527</td>\n",
       "      <td>0.03328</td>\n",
       "      <td>1.32548</td>\n",
       "      <td>1.36058</td>\n",
       "      <td>0.87464</td>\n",
       "      <td>0.64938</td>\n",
       "      <td>0.48357</td>\n",
       "      <td>0.34139</td>\n",
       "      <td>2.49204</td>\n",
       "    </tr>\n",
       "    <tr>\n",
       "      <th>3</th>\n",
       "      <td>Norway</td>\n",
       "      <td>Western Europe</td>\n",
       "      <td>4</td>\n",
       "      <td>7.522</td>\n",
       "      <td>0.03880</td>\n",
       "      <td>1.45900</td>\n",
       "      <td>1.33095</td>\n",
       "      <td>0.88521</td>\n",
       "      <td>0.66973</td>\n",
       "      <td>0.36503</td>\n",
       "      <td>0.34699</td>\n",
       "      <td>2.46531</td>\n",
       "    </tr>\n",
       "    <tr>\n",
       "      <th>4</th>\n",
       "      <td>Canada</td>\n",
       "      <td>North America</td>\n",
       "      <td>5</td>\n",
       "      <td>7.427</td>\n",
       "      <td>0.03553</td>\n",
       "      <td>1.32629</td>\n",
       "      <td>1.32261</td>\n",
       "      <td>0.90563</td>\n",
       "      <td>0.63297</td>\n",
       "      <td>0.32957</td>\n",
       "      <td>0.45811</td>\n",
       "      <td>2.45176</td>\n",
       "    </tr>\n",
       "  </tbody>\n",
       "</table>\n",
       "</div>"
      ],
      "text/plain": [
       "       Country          Region  Happiness Rank  Happiness Score  \\\n",
       "0  Switzerland  Western Europe               1            7.587   \n",
       "1      Iceland  Western Europe               2            7.561   \n",
       "2      Denmark  Western Europe               3            7.527   \n",
       "3       Norway  Western Europe               4            7.522   \n",
       "4       Canada   North America               5            7.427   \n",
       "\n",
       "   Standard Error  Economy (GDP per Capita)   Family  \\\n",
       "0         0.03411                   1.39651  1.34951   \n",
       "1         0.04884                   1.30232  1.40223   \n",
       "2         0.03328                   1.32548  1.36058   \n",
       "3         0.03880                   1.45900  1.33095   \n",
       "4         0.03553                   1.32629  1.32261   \n",
       "\n",
       "   Health (Life Expectancy)  Freedom  Trust (Government Corruption)  \\\n",
       "0                   0.94143  0.66557                        0.41978   \n",
       "1                   0.94784  0.62877                        0.14145   \n",
       "2                   0.87464  0.64938                        0.48357   \n",
       "3                   0.88521  0.66973                        0.36503   \n",
       "4                   0.90563  0.63297                        0.32957   \n",
       "\n",
       "   Generosity  Dystopia Residual  \n",
       "0     0.29678            2.51738  \n",
       "1     0.43630            2.70201  \n",
       "2     0.34139            2.49204  \n",
       "3     0.34699            2.46531  \n",
       "4     0.45811            2.45176  "
      ]
     },
     "execution_count": 30,
     "metadata": {},
     "output_type": "execute_result"
    }
   ],
   "source": [
    "# 加载csv文件数据\n",
    "reprot_2015_df = pd.read_csv('./2015.csv')\n",
    "print('2015年数据预览：')\n",
    "#print(reprot_2015_df.head())\n",
    "reprot_2015_df.head()"
   ]
  },
  {
   "cell_type": "code",
   "execution_count": 31,
   "metadata": {},
   "outputs": [
    {
     "name": "stdout",
     "output_type": "stream",
     "text": [
      "<class 'pandas.core.frame.DataFrame'>\n",
      "RangeIndex: 158 entries, 0 to 157\n",
      "Data columns (total 12 columns):\n",
      "Country                          158 non-null object\n",
      "Region                           158 non-null object\n",
      "Happiness Rank                   158 non-null int64\n",
      "Happiness Score                  158 non-null float64\n",
      "Standard Error                   158 non-null float64\n",
      "Economy (GDP per Capita)         158 non-null float64\n",
      "Family                           158 non-null float64\n",
      "Health (Life Expectancy)         158 non-null float64\n",
      "Freedom                          158 non-null float64\n",
      "Trust (Government Corruption)    158 non-null float64\n",
      "Generosity                       158 non-null float64\n",
      "Dystopia Residual                158 non-null float64\n",
      "dtypes: float64(9), int64(1), object(2)\n",
      "memory usage: 14.9+ KB\n",
      "None\n"
     ]
    }
   ],
   "source": [
    "print(reprot_2015_df.info())"
   ]
  },
  {
   "cell_type": "markdown",
   "metadata": {},
   "source": [
    "## 3. 索引"
   ]
  },
  {
   "cell_type": "code",
   "execution_count": 32,
   "metadata": {},
   "outputs": [
    {
     "data": {
      "text/html": [
       "<div>\n",
       "<style scoped>\n",
       "    .dataframe tbody tr th:only-of-type {\n",
       "        vertical-align: middle;\n",
       "    }\n",
       "\n",
       "    .dataframe tbody tr th {\n",
       "        vertical-align: top;\n",
       "    }\n",
       "\n",
       "    .dataframe thead th {\n",
       "        text-align: right;\n",
       "    }\n",
       "</style>\n",
       "<table border=\"1\" class=\"dataframe\">\n",
       "  <thead>\n",
       "    <tr style=\"text-align: right;\">\n",
       "      <th></th>\n",
       "      <th>Region</th>\n",
       "      <th>Happiness Rank</th>\n",
       "      <th>Happiness Score</th>\n",
       "    </tr>\n",
       "    <tr>\n",
       "      <th>Country</th>\n",
       "      <th></th>\n",
       "      <th></th>\n",
       "      <th></th>\n",
       "    </tr>\n",
       "  </thead>\n",
       "  <tbody>\n",
       "    <tr>\n",
       "      <th>Denmark</th>\n",
       "      <td>Western Europe</td>\n",
       "      <td>1</td>\n",
       "      <td>7.526</td>\n",
       "    </tr>\n",
       "    <tr>\n",
       "      <th>Switzerland</th>\n",
       "      <td>Western Europe</td>\n",
       "      <td>2</td>\n",
       "      <td>7.509</td>\n",
       "    </tr>\n",
       "    <tr>\n",
       "      <th>Iceland</th>\n",
       "      <td>Western Europe</td>\n",
       "      <td>3</td>\n",
       "      <td>7.501</td>\n",
       "    </tr>\n",
       "    <tr>\n",
       "      <th>Norway</th>\n",
       "      <td>Western Europe</td>\n",
       "      <td>4</td>\n",
       "      <td>7.498</td>\n",
       "    </tr>\n",
       "    <tr>\n",
       "      <th>Finland</th>\n",
       "      <td>Western Europe</td>\n",
       "      <td>5</td>\n",
       "      <td>7.413</td>\n",
       "    </tr>\n",
       "  </tbody>\n",
       "</table>\n",
       "</div>"
      ],
      "text/plain": [
       "                     Region  Happiness Rank  Happiness Score\n",
       "Country                                                     \n",
       "Denmark      Western Europe               1            7.526\n",
       "Switzerland  Western Europe               2            7.509\n",
       "Iceland      Western Europe               3            7.501\n",
       "Norway       Western Europe               4            7.498\n",
       "Finland      Western Europe               5            7.413"
      ]
     },
     "execution_count": 32,
     "metadata": {},
     "output_type": "execute_result"
    }
   ],
   "source": [
    "# 使用index_col指定索引列\n",
    "# 使用usecols指定需要读取的列\n",
    "reprot_2016_df = pd.read_csv('./2016.csv', \n",
    "                             index_col='Country',\n",
    "                             usecols=['Country', 'Happiness Rank', 'Happiness Score', 'Region'])\n",
    "# 数据预览\n",
    "reprot_2016_df.head()"
   ]
  },
  {
   "cell_type": "code",
   "execution_count": 33,
   "metadata": {},
   "outputs": [
    {
     "name": "stdout",
     "output_type": "stream",
     "text": [
      "列名(column)： Index(['Region', 'Happiness Rank', 'Happiness Score'], dtype='object')\n",
      "行名(index)： Index(['Denmark', 'Switzerland', 'Iceland', 'Norway', 'Finland', 'Canada',\n",
      "       'Netherlands', 'New Zealand', 'Australia', 'Sweden',\n",
      "       ...\n",
      "       'Madagascar', 'Tanzania', 'Liberia', 'Guinea', 'Rwanda', 'Benin',\n",
      "       'Afghanistan', 'Togo', 'Syria', 'Burundi'],\n",
      "      dtype='object', name='Country', length=157)\n"
     ]
    }
   ],
   "source": [
    "print('列名(column)：', reprot_2016_df.columns)\n",
    "print('行名(index)：', reprot_2016_df.index)"
   ]
  },
  {
   "cell_type": "code",
   "execution_count": 34,
   "metadata": {},
   "outputs": [
    {
     "ename": "TypeError",
     "evalue": "Index does not support mutable operations",
     "output_type": "error",
     "traceback": [
      "\u001b[1;31m---------------------------------------------------------------------------\u001b[0m",
      "\u001b[1;31mTypeError\u001b[0m                                 Traceback (most recent call last)",
      "\u001b[1;32m<ipython-input-34-c2f1f4f940d2>\u001b[0m in \u001b[0;36m<module>\u001b[1;34m()\u001b[0m\n\u001b[0;32m      1\u001b[0m \u001b[1;31m# 注意index是不可变的\u001b[0m\u001b[1;33m\u001b[0m\u001b[1;33m\u001b[0m\u001b[0m\n\u001b[1;32m----> 2\u001b[1;33m \u001b[0mreprot_2016_df\u001b[0m\u001b[1;33m.\u001b[0m\u001b[0mindex\u001b[0m\u001b[1;33m[\u001b[0m\u001b[1;36m0\u001b[0m\u001b[1;33m]\u001b[0m \u001b[1;33m=\u001b[0m \u001b[1;34m'丹麦'\u001b[0m\u001b[1;33m\u001b[0m\u001b[0m\n\u001b[0m",
      "\u001b[1;32mC:\\tools\\ds\\Anaconda3\\envs\\py3\\lib\\site-packages\\pandas\\core\\indexes\\base.py\u001b[0m in \u001b[0;36m__setitem__\u001b[1;34m(self, key, value)\u001b[0m\n\u001b[0;32m   2049\u001b[0m \u001b[1;33m\u001b[0m\u001b[0m\n\u001b[0;32m   2050\u001b[0m     \u001b[1;32mdef\u001b[0m \u001b[0m__setitem__\u001b[0m\u001b[1;33m(\u001b[0m\u001b[0mself\u001b[0m\u001b[1;33m,\u001b[0m \u001b[0mkey\u001b[0m\u001b[1;33m,\u001b[0m \u001b[0mvalue\u001b[0m\u001b[1;33m)\u001b[0m\u001b[1;33m:\u001b[0m\u001b[1;33m\u001b[0m\u001b[0m\n\u001b[1;32m-> 2051\u001b[1;33m         \u001b[1;32mraise\u001b[0m \u001b[0mTypeError\u001b[0m\u001b[1;33m(\u001b[0m\u001b[1;34m\"Index does not support mutable operations\"\u001b[0m\u001b[1;33m)\u001b[0m\u001b[1;33m\u001b[0m\u001b[0m\n\u001b[0m\u001b[0;32m   2052\u001b[0m \u001b[1;33m\u001b[0m\u001b[0m\n\u001b[0;32m   2053\u001b[0m     \u001b[1;32mdef\u001b[0m \u001b[0m__getitem__\u001b[0m\u001b[1;33m(\u001b[0m\u001b[0mself\u001b[0m\u001b[1;33m,\u001b[0m \u001b[0mkey\u001b[0m\u001b[1;33m)\u001b[0m\u001b[1;33m:\u001b[0m\u001b[1;33m\u001b[0m\u001b[0m\n",
      "\u001b[1;31mTypeError\u001b[0m: Index does not support mutable operations"
     ]
    }
   ],
   "source": [
    "# 注意index是不可变的\n",
    "#reprot_2016_df.index[0] = '丹麦'"
   ]
  },
  {
   "cell_type": "code",
   "execution_count": null,
   "metadata": {},
   "outputs": [],
   "source": [
    "# 重置index\n",
    "# 注意inplace加与不加的区别\n",
    "reprot_2016_df.reset_index(inplace=True)"
   ]
  },
  {
   "cell_type": "code",
   "execution_count": null,
   "metadata": {},
   "outputs": [],
   "source": [
    "reprot_2016_df.head()"
   ]
  },
  {
   "cell_type": "code",
   "execution_count": null,
   "metadata": {
    "scrolled": true
   },
   "outputs": [],
   "source": [
    "# 重命名列名\n",
    "reprot_2016_df = reprot_2016_df.rename(columns={'Region': '地区', 'Hapiness Rank': '排名', 'Hapiness Score': '幸福指数'})\n",
    "reprot_2016_df.head()"
   ]
  },
  {
   "cell_type": "code",
   "execution_count": null,
   "metadata": {},
   "outputs": [],
   "source": [
    "# 重命名列名，注意inplace的使用\n",
    "reprot_2016_df.rename(columns={'Region': '地区', 'Happiness Rank': '排名', 'Happiness Score': '幸福指数'},\n",
    "                     inplace=True)\n",
    "reprot_2016_df.head()"
   ]
  },
  {
   "cell_type": "markdown",
   "metadata": {},
   "source": [
    "## 4. Boolean Mask"
   ]
  },
  {
   "cell_type": "code",
   "execution_count": null,
   "metadata": {},
   "outputs": [],
   "source": [
    "reprot_2016_df.head()"
   ]
  },
  {
   "cell_type": "code",
   "execution_count": null,
   "metadata": {},
   "outputs": [],
   "source": [
    "# 过滤 Western Europe 地区的国家\n",
    "# only_western_europe = reprot_2016_df['地区'] == 'Western Europe'\n",
    "reprot_2016_df[reprot_2016_df['地区'] == 'Western Europe']"
   ]
  },
  {
   "cell_type": "code",
   "execution_count": null,
   "metadata": {},
   "outputs": [],
   "source": [
    "# 过滤 Western Europe 地区的国家\n",
    "# 并且排名在10之外\n",
    "only_western_europe_10 = (reprot_2016_df['地区'] == 'Western Europe') & (reprot_2016_df['排名'] > 10)\n",
    "only_western_europe_10"
   ]
  },
  {
   "cell_type": "code",
   "execution_count": null,
   "metadata": {},
   "outputs": [],
   "source": [
    "# 叠加 boolean mask 得到最终结果\n",
    "reprot_2016_df[only_western_europe_10]"
   ]
  },
  {
   "cell_type": "code",
   "execution_count": null,
   "metadata": {},
   "outputs": [],
   "source": [
    "# 熟练以后可以写在一行中\n",
    "reprot_2016_df[(reprot_2016_df['地区'] == 'Western Europe') & (reprot_2016_df['排名'] > 10)]"
   ]
  },
  {
   "cell_type": "markdown",
   "metadata": {},
   "source": [
    "## 5. 层级索引"
   ]
  },
  {
   "cell_type": "code",
   "execution_count": null,
   "metadata": {},
   "outputs": [],
   "source": [
    "reprot_2015_df.head()"
   ]
  },
  {
   "cell_type": "code",
   "execution_count": null,
   "metadata": {
    "scrolled": false
   },
   "outputs": [],
   "source": [
    "# 设置层级索引\n",
    "report_2015_df2 = reprot_2015_df.set_index(['Region', 'Country'])\n",
    "report_2015_df2.head(20)"
   ]
  },
  {
   "cell_type": "code",
   "execution_count": null,
   "metadata": {},
   "outputs": [],
   "source": [
    "# level0 索引\n",
    "report_2015_df2.loc['Western Europe']"
   ]
  },
  {
   "cell_type": "code",
   "execution_count": null,
   "metadata": {},
   "outputs": [],
   "source": [
    "# 两层索引\n",
    "report_2015_df2.loc['Western Europe', 'Switzerland']"
   ]
  },
  {
   "cell_type": "code",
   "execution_count": null,
   "metadata": {},
   "outputs": [],
   "source": [
    "# 交换分层顺序\n",
    "report_2015_df2.swaplevel()"
   ]
  },
  {
   "cell_type": "code",
   "execution_count": null,
   "metadata": {
    "scrolled": false
   },
   "outputs": [],
   "source": [
    "# 排序分层\n",
    "report_2015_df2.sort_index(level=0)"
   ]
  }
 ],
 "metadata": {
  "kernelspec": {
   "display_name": "Python [conda env:py3]",
   "language": "python",
   "name": "conda-env-py3-py"
  },
  "language_info": {
   "codemirror_mode": {
    "name": "ipython",
    "version": 3
   },
   "file_extension": ".py",
   "mimetype": "text/x-python",
   "name": "python",
   "nbconvert_exporter": "python",
   "pygments_lexer": "ipython3",
   "version": "3.6.6"
  }
 },
 "nbformat": 4,
 "nbformat_minor": 2
}
